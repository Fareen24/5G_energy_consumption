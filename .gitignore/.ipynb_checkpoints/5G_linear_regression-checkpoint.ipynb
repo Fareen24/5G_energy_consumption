{
 "cells": [
  {
   "cell_type": "markdown",
   "id": "f6dad1ca-4350-41a5-a3a4-84ea88d6901f",
   "metadata": {},
   "source": [
    "#  Assignment Overview\n",
    "You are going to work on the '5G-Energy consumption' dataset that was provided by the  international telecommunication union (ITU) in 2023 as part of a global challenge or competition for data scientists all over the world to solve the 5G energy consumption modelling using machine learning techniques.\n",
    "\n",
    "Checkpoint problematic : Network operational expenditure (OPEX) already accounts for around 25 percent of the total telecom operator’s cost, and 90 percent of it is spent on large energy bills. More than 70 percent of this energy is estimated to be consumed by the radio access network (RAN), particularly by the base stations (BSs). Thus, the objective is to build and train a ML model to estimate the energy consumed by different 5G base stations taking into consideration the impact of various engineering configurations, traffic conditions, and energy-saving methods.\n",
    "\n",
    "Dataset description : This dataset is derived from the original copy and simplified for learning purposes. It includes cell-level traffic statistics of 4G/5G sites collected on different days."
   ]
  },
  {
   "cell_type": "markdown",
   "id": "7c2e6e07-a401-47ce-a098-0b408494955d",
   "metadata": {},
   "source": [
    "# Import necessary libraries"
   ]
  },
  {
   "cell_type": "code",
   "execution_count": null,
   "id": "c34d2fb5-b9a5-4a90-92d8-5784928443d8",
   "metadata": {},
   "outputs": [],
   "source": [
    "# importing necessary libraries\n",
    "import pandas as pd\n",
    "import numpy as np\n",
    "import seaborn as sns\n",
    "import matplotlib.pyplot as plt\n",
    "from sklearn.datasets import fetch_california_housing\n",
    "from sklearn.model_selection import train_test_split\n",
    "from sklearn.linear_model import LinearRegression\n",
    "from sklearn.preprocessing import StandardScaler\n",
    "from sklearn.metrics import mean_squared_error, r2_score, root_mean_squared_error\n",
    "from sklearn.preprocessing import RobustScaler"
   ]
  },
  {
   "cell_type": "markdown",
   "id": "983de529-22fb-4f48-9a08-5acbbc099e0e",
   "metadata": {},
   "source": [
    "# Load the data"
   ]
  },
  {
   "cell_type": "code",
   "execution_count": null,
   "id": "2c2e3884-d69a-4fc5-ab3e-e955f5063c47",
   "metadata": {},
   "outputs": [],
   "source": [
    "df = pd.read_csv(\"5G_energy_consumption_dataset.csv\")"
   ]
  },
  {
   "cell_type": "code",
   "execution_count": null,
   "id": "5bb84089-d97f-40f6-a055-dd408b6df58c",
   "metadata": {},
   "outputs": [],
   "source": [
    "df.head(10)"
   ]
  },
  {
   "cell_type": "code",
   "execution_count": null,
   "id": "027f59c8-a8c3-495a-8611-ad8d5f7c4488",
   "metadata": {},
   "outputs": [],
   "source": [
    "df.info()"
   ]
  },
  {
   "cell_type": "code",
   "execution_count": null,
   "id": "2dc90ecb-794f-40bf-a662-fb9b4f96ab8b",
   "metadata": {},
   "outputs": [],
   "source": [
    "#checking descriptive statistics\n",
    "df.describe()"
   ]
  },
  {
   "cell_type": "code",
   "execution_count": null,
   "id": "adc5f9be-e069-41c9-90ac-935a7e2efc05",
   "metadata": {},
   "outputs": [],
   "source": [
    "# checking for missing values\n",
    "df.isnull().sum()"
   ]
  },
  {
   "cell_type": "code",
   "execution_count": null,
   "id": "cee6c14e-3353-47ba-b888-eef1fdf799cd",
   "metadata": {},
   "outputs": [],
   "source": [
    "df.columns"
   ]
  },
  {
   "cell_type": "code",
   "execution_count": null,
   "id": "611a916f-874e-434c-b949-c7ded932a4a1",
   "metadata": {},
   "outputs": [],
   "source": [
    "# Convert all column names to lowercase\n",
    "df.columns = df.columns.str.lower()\n",
    "df.columns"
   ]
  },
  {
   "cell_type": "code",
   "execution_count": null,
   "id": "7cd24126-aeab-4a8b-a659-b7c02c8fa905",
   "metadata": {},
   "outputs": [],
   "source": [
    "# extract hour, day, year from time column\n",
    "df['hour'] = pd.to_datetime(df['time']).dt.hour\n",
    "df['day'] = pd.to_datetime(df['time']).dt.day"
   ]
  },
  {
   "cell_type": "code",
   "execution_count": null,
   "id": "e82f5795-d669-4094-afbd-419fe63f0e66",
   "metadata": {},
   "outputs": [],
   "source": [
    "df.head(20)"
   ]
  },
  {
   "cell_type": "code",
   "execution_count": null,
   "id": "403e625b-7576-4e35-a810-a91f12811de6",
   "metadata": {},
   "outputs": [],
   "source": [
    "df.describe()"
   ]
  },
  {
   "cell_type": "code",
   "execution_count": null,
   "id": "896ef0ff-b6a9-43cf-b13a-61d34db3d37d",
   "metadata": {},
   "outputs": [],
   "source": [
    "# checking for outliers\n",
    "df.plot(kind = \"box\" , subplots = True , figsize = (18,15) ,  layout = (3,4))\n",
    "#plt.savefig('california housing outliers.png')\n",
    "plt.show()"
   ]
  },
  {
   "cell_type": "code",
   "execution_count": null,
   "id": "37cb1de4-6e88-4c0c-bc0e-c28b3475a1b0",
   "metadata": {},
   "outputs": [],
   "source": [
    "# see distribution of the energy column\n",
    "sns.histplot(data=df.energy, kde=True)"
   ]
  },
  {
   "cell_type": "markdown",
   "id": "a8d90dcb-ac06-4de0-bcf0-d959bfa38d11",
   "metadata": {},
   "source": [
    "For the energy column the distribution is skewed to the left and therefore will used Inter Quartile Range(IQR) to deal with outliers."
   ]
  },
  {
   "cell_type": "code",
   "execution_count": null,
   "id": "fe38c49a-4b90-4d59-9ba5-5fe4cd29fbdc",
   "metadata": {},
   "outputs": [],
   "source": [
    "# visualize histplot of load column to check the distribution before handling outliers\n",
    "\n",
    "sns.histplot(data=df.load, kde=True)"
   ]
  },
  {
   "cell_type": "markdown",
   "id": "61b6185f-0727-4f4c-b12e-130f885d1590",
   "metadata": {},
   "source": [
    "The load column also has a left-skewed distribution"
   ]
  },
  {
   "cell_type": "code",
   "execution_count": null,
   "id": "ea2730b0-4964-4da0-b3bc-97dd7546d0f8",
   "metadata": {},
   "outputs": [],
   "source": [
    "# visualize  to check the distribution before handling outliers\n",
    "\n",
    "sns.histplot(data=df.esmode, kde=True)"
   ]
  },
  {
   "cell_type": "code",
   "execution_count": null,
   "id": "fbe5a72c-1b92-4a5d-8d08-6f1806596291",
   "metadata": {},
   "outputs": [],
   "source": [
    "# visualize txpower column to check the distribution before handling outliers\n",
    "sns.histplot(data=df.txpower, kde=True)"
   ]
  },
  {
   "cell_type": "markdown",
   "id": "263deccb-f0a6-4a51-bfc4-6d23ec29ef40",
   "metadata": {},
   "source": [
    "# Removing the outliers using the Inter Quartile Range"
   ]
  },
  {
   "cell_type": "code",
   "execution_count": null,
   "id": "79d7084b-bb8d-452e-b8e4-0219dd32f067",
   "metadata": {},
   "outputs": [],
   "source": [
    "# Function to remove outliers using the IQR method\n",
    "def remove_outliers_iqr(df, column):\n",
    "    # Calculate Q1 (25th percentile) and Q3 (75th percentile)\n",
    "    Q1 = df[column].quantile(0.25)\n",
    "    Q3 = df[column].quantile(0.75)\n",
    "    \n",
    "    # Calculate IQR\n",
    "    IQR = Q3 - Q1\n",
    "    \n",
    "    # Define lower and upper limit\n",
    "    lower_limit = Q1 - 1.5 * IQR\n",
    "    upper_limit = Q3 + 1.5 * IQR\n",
    "    \n",
    "    # Filter the dataframe to remove outliers\n",
    "    filtered_df = df[(df[column] >= lower_limit) & (df[column] <= upper_limit)]\n",
    "    \n",
    "    return filtered_df\n",
    "\n",
    "# List of columns to remove outliers from\n",
    "columns = ['energy', 'txpower', 'load']\n",
    "\n",
    "# Apply the IQR method for each column and update the dataframe\n",
    "for column in columns:\n",
    "    df = remove_outliers_iqr(df, column)"
   ]
  },
  {
   "cell_type": "code",
   "execution_count": null,
   "id": "ff1aae09-0bfb-4f6b-9b30-e36d34017ed1",
   "metadata": {},
   "outputs": [],
   "source": [
    "# Check the shape of the dataframe after removing outliers\n",
    "df.shape"
   ]
  },
  {
   "cell_type": "code",
   "execution_count": null,
   "id": "0c4dc0b8-4fe1-412c-b4f5-d89ac3287692",
   "metadata": {},
   "outputs": [],
   "source": [
    "df.head()"
   ]
  },
  {
   "cell_type": "code",
   "execution_count": null,
   "id": "ae030553-49f4-4277-a0bd-1aa4db93b0ec",
   "metadata": {},
   "outputs": [],
   "source": [
    "# checking for outliers\n",
    "df.plot(kind = \"box\" , subplots = True , figsize = (18,15) ,  layout = (3,4))\n",
    "#plt.savefig('california housing outliers.png')\n",
    "plt.show()"
   ]
  },
  {
   "cell_type": "markdown",
   "id": "de28e513-d8f0-47a8-81f6-373e1bfd31ef",
   "metadata": {},
   "source": [
    "## Capping the remaining outliers in the load and energy columns"
   ]
  },
  {
   "cell_type": "code",
   "execution_count": null,
   "id": "625fa2f0-1982-4338-8b52-5735e8acbaed",
   "metadata": {},
   "outputs": [],
   "source": [
    "# Function to cap outliers using the IQR method\n",
    "def cap_outliers_iqr(df, column):\n",
    "    # Calculate Q1 (25th percentile) and Q3 (75th percentile)\n",
    "    Q1 = df[column].quantile(0.25)\n",
    "    Q3 = df[column].quantile(0.75)\n",
    "    \n",
    "    # Calculate IQR\n",
    "    IQR = Q3 - Q1\n",
    "    \n",
    "    # Define lower and upper limit\n",
    "    lower_limit = Q1 - 1.5 * IQR\n",
    "    upper_limit = Q3 + 1.5 * IQR\n",
    "    \n",
    "    # Cap the values below the lower bound\n",
    "    df[column] = df[column].apply(lambda x: lower_limit if x < lower_limit else x)\n",
    "    \n",
    "    # Cap the values above the upper bound\n",
    "    df[column] = df[column].apply(lambda x: upper_limit if x > upper_limit else x)\n",
    "\n",
    "    return df\n",
    "\n",
    "# List of columns to cap outliers in\n",
    "columns_to_cap = ['energy', 'load']\n",
    "\n",
    "# Apply the capping function for the specified columns\n",
    "for column in columns_to_cap:\n",
    "    df = cap_outliers_iqr(df, column)"
   ]
  },
  {
   "cell_type": "code",
   "execution_count": null,
   "id": "0db8eea8-cda4-4186-8e47-504ef584d0c4",
   "metadata": {},
   "outputs": [],
   "source": [
    "# Check the dataframe after capping outliers\n",
    "df[columns_to_cap].describe()"
   ]
  },
  {
   "cell_type": "code",
   "execution_count": null,
   "id": "2e2cfbb2-be58-4be3-a0ae-2fcc86b4aefe",
   "metadata": {},
   "outputs": [],
   "source": [
    "# checking for outliers\n",
    "df.plot(kind = \"box\" , subplots = True , figsize = (18,15) ,  layout = (3,4))\n",
    "#plt.savefig('california housing outliers.png')\n",
    "plt.show()"
   ]
  },
  {
   "cell_type": "markdown",
   "id": "9f55fd78-c2db-4059-85ce-d9c0d03e313d",
   "metadata": {},
   "source": [
    "## removing outliers in the esmode column using imputation"
   ]
  },
  {
   "cell_type": "code",
   "execution_count": null,
   "id": "f9867f29-1f58-44df-981d-3d3e8559dd77",
   "metadata": {},
   "outputs": [],
   "source": [
    "# Calculate the mode of the 'esmode' column\n",
    "#esmode_mode = df['esmode'].mode()[0]\n",
    "#esmode_mode"
   ]
  },
  {
   "cell_type": "code",
   "execution_count": null,
   "id": "6210cb77-89e6-48fa-94cc-50f25f92f6bb",
   "metadata": {},
   "outputs": [],
   "source": [
    "# Replace outliers (values outside the range 0-4) with the mode\n",
    "#df['esmode'] = df['esmode'].apply(lambda x: esmode_mode if x < 0 or x > 4 else x)"
   ]
  },
  {
   "cell_type": "code",
   "execution_count": null,
   "id": "f36c19d7-9950-4ca0-b82f-4d040942b4e1",
   "metadata": {},
   "outputs": [],
   "source": [
    "# Check the unique values to verify no outliers remain\n",
    "#print(df['esmode'].unique())"
   ]
  },
  {
   "cell_type": "code",
   "execution_count": null,
   "id": "fc77b8f8-22cc-4bbf-8b88-8017312e02e9",
   "metadata": {},
   "outputs": [],
   "source": [
    "df.head()"
   ]
  },
  {
   "cell_type": "markdown",
   "id": "ecf50db0-6d17-4168-a723-e7359197486c",
   "metadata": {},
   "source": [
    "since esmode column has discrete column we use a countplot to check for outliers"
   ]
  },
  {
   "cell_type": "markdown",
   "id": "23b0550f-cf4c-4baf-9587-0901c7261010",
   "metadata": {},
   "source": [
    "## Check the correlation between the features and target variable"
   ]
  },
  {
   "cell_type": "code",
   "execution_count": null,
   "id": "492ab6d2-1441-4d0d-8f6c-aa3c377bcd53",
   "metadata": {},
   "outputs": [],
   "source": [
    "# Select specific columns for the correlation matrix\n",
    "columns_to_correlate = ['energy', 'load', 'esmode', 'txpower', 'hour', 'day']\n",
    "\n",
    "# Calculate the correlation matrix for the selected columns\n",
    "correlation_matrix = df[columns_to_correlate].corr()\n",
    "\n",
    "# Plot the heatmap of the correlation matrix\n",
    "plt.figure(figsize=(10, 8))\n",
    "sns.heatmap(correlation_matrix, annot=True, cmap='coolwarm', fmt=\".2f\")\n",
    "plt.title(\"Correlation Matrix for Selected Columns\")\n",
    "plt.show()"
   ]
  },
  {
   "cell_type": "code",
   "execution_count": null,
   "id": "0ac999f7-994c-43e6-a2b5-d31db478f01c",
   "metadata": {},
   "outputs": [],
   "source": [
    "plt.figure(figsize=(10, 6))\n",
    "sns.lineplot(x='hour', y='energy', data=df)\n",
    "plt.title('Energy Consumption vs Time of Day')\n",
    "plt.xlabel('Hour of Day')\n",
    "plt.ylabel('Energy Consumption')\n",
    "plt.show()\n"
   ]
  },
  {
   "cell_type": "code",
   "execution_count": null,
   "id": "c65eebe9-955e-4c82-8e02-9dea99250b93",
   "metadata": {},
   "outputs": [],
   "source": [
    "plt.figure(figsize=(10, 6))\n",
    "sns.lineplot(x='day', y='energy', data=df)\n",
    "plt.title('Energy Consumption vs day')\n",
    "plt.xlabel('Day')\n",
    "plt.ylabel('Energy Consumption')\n",
    "plt.show()\n"
   ]
  },
  {
   "cell_type": "markdown",
   "id": "02beb926-779b-4aae-b928-f7d702eca0fe",
   "metadata": {},
   "source": [
    "# 2. Selecting target variable and the features"
   ]
  },
  {
   "cell_type": "code",
   "execution_count": null,
   "id": "05890e37-58be-44b1-aad7-03824751a0ec",
   "metadata": {},
   "outputs": [],
   "source": [
    "#Select the specified feature columns\n",
    "\n",
    "X = df['load']\n",
    "\n",
    "# Select the target column\n",
    "y = df['energy']"
   ]
  },
  {
   "cell_type": "markdown",
   "id": "9c2c548b-1c37-421c-99c7-2e6eaf6b43ef",
   "metadata": {},
   "source": [
    "# 3. Split the dataset into training and test sets"
   ]
  },
  {
   "cell_type": "code",
   "execution_count": null,
   "id": "e6cd50b0-fce3-4f2d-bc31-66f7a3324fe7",
   "metadata": {},
   "outputs": [],
   "source": [
    "# split the data as train and test\n",
    "X_train, X_test, y_train, y_test = train_test_split(X, y, test_size=0.2, random_state=42)"
   ]
  },
  {
   "cell_type": "code",
   "execution_count": null,
   "id": "d6bab599-dc48-4743-9e1a-c9dfedcef8a3",
   "metadata": {},
   "outputs": [],
   "source": [
    "# check the splitted data is the same size\n",
    "print(\"X_train:\", X_train.shape)  \n",
    "print(\"X_test:\",  X_test.shape)\n",
    "print(\"y_train:\", y_train.shape)\n",
    "print(\"y_test:\", y_test.shape)"
   ]
  },
  {
   "cell_type": "markdown",
   "id": "3ed382c8-8b3b-4a35-8550-362413356fa8",
   "metadata": {},
   "source": [
    "# 4. Linear Regression model"
   ]
  },
  {
   "cell_type": "code",
   "execution_count": null,
   "id": "a3a3a612-351c-4b9c-ae22-f05e900d479b",
   "metadata": {},
   "outputs": [],
   "source": [
    "# Create a linear regression model\n",
    "model = LinearRegression()"
   ]
  },
  {
   "cell_type": "code",
   "execution_count": null,
   "id": "457c1e8e-641e-41f5-af1c-3aa0ac49f335",
   "metadata": {},
   "outputs": [],
   "source": [
    "# Train the model on the training data\n",
    "model.fit(X_train, y_train)"
   ]
  },
  {
   "cell_type": "code",
   "execution_count": null,
   "id": "55457a8e-14a7-4f8f-a829-48dcd2bac0f9",
   "metadata": {},
   "outputs": [],
   "source": [
    "# Make predictions on the testing data\n",
    "y_pred = model.predict(X_test)"
   ]
  },
  {
   "cell_type": "markdown",
   "id": "84903523-a09b-4770-9dac-6656406e7424",
   "metadata": {},
   "source": [
    "# 5. Evaluate the model"
   ]
  },
  {
   "cell_type": "code",
   "execution_count": null,
   "id": "1ba4592b-d87a-42ba-b275-e96532f9b86c",
   "metadata": {},
   "outputs": [],
   "source": [
    "#Evaluate the model\n",
    "# Calculate Mean Squared Error (MSE)\n",
    "mse = mean_squared_error(y_test, y_pred) \n",
    "\n",
    "# Calculate Root Mean Squared Error (RMSE)\n",
    "rmse = np.sqrt(mse)  \n",
    "\n",
    "# calculate R squared\n",
    "r2 = r2_score(y_test , y_pred)\n",
    "print(f\"Mean Squared Error (MSE): {mse}\")\n",
    "print(f\"Root Mean Squared Error (RMSE): {rmse}\")\n",
    "print(f\" r squared (r2): {r2}\")"
   ]
  },
  {
   "cell_type": "code",
   "execution_count": null,
   "id": "e6c23f11-1fa5-43d0-8fdd-0f67b33a3f0c",
   "metadata": {},
   "outputs": [],
   "source": [
    "# Plot actual vs predicted  values\n",
    "# Scatter plot to compare actual vs predicted values\n",
    "plt.figure(figsize=(8, 6))\n",
    "plt.scatter(y_test, y_pred, color=\"blue\", label=\"Predictions\")\n",
    "plt.plot(\n",
    "    [min(y_test), max(y_test)],\n",
    "    [min(y_test), max(y_test)],\n",
    "    color=\"red\",\n",
    "    linestyle=\"--\",\n",
    "    label=\"Perfect Fit (y = x)\",\n",
    ")\n",
    "\n",
    "plt.xlabel(\"Actual Values\")\n",
    "plt.ylabel(\"Predicted Values\")\n",
    "plt.title(\"Actual vs Predicted Values\")\n",
    "plt.legend()\n",
    "plt.grid(True)\n",
    "\n",
    "plt.show()"
   ]
  },
  {
   "cell_type": "code",
   "execution_count": null,
   "id": "893fe619-a110-4e26-9c22-e665fbb92f8e",
   "metadata": {},
   "outputs": [],
   "source": []
  }
 ],
 "metadata": {
  "kernelspec": {
   "display_name": "Python 3 (ipykernel)",
   "language": "python",
   "name": "python3"
  },
  "language_info": {
   "codemirror_mode": {
    "name": "ipython",
    "version": 3
   },
   "file_extension": ".py",
   "mimetype": "text/x-python",
   "name": "python",
   "nbconvert_exporter": "python",
   "pygments_lexer": "ipython3",
   "version": "3.12.3"
  }
 },
 "nbformat": 4,
 "nbformat_minor": 5
}
